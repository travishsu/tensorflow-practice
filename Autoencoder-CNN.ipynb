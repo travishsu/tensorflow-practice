{
 "cells": [
  {
   "cell_type": "code",
   "execution_count": 1,
   "metadata": {
    "collapsed": false
   },
   "outputs": [],
   "source": [
    "%matplotlib inline\n",
    "import pandas as pd\n",
    "import numpy as np\n",
    "import tensorflow as tf\n",
    "import matplotlib.pyplot as plt\n",
    "\n",
    "from scipy.misc import imshow\n",
    "import sys\n",
    "sys.path.insert(0, '../../LEARNING/PCA_dl/')\n",
    "from Dataset import DatasetNoLabel"
   ]
  },
  {
   "cell_type": "code",
   "execution_count": 2,
   "metadata": {
    "collapsed": false
   },
   "outputs": [],
   "source": [
    "data = pd.read_csv('./inputs/train.csv').values[:, 1:].reshape(-1, 28, 28, 1)"
   ]
  },
  {
   "cell_type": "code",
   "execution_count": 3,
   "metadata": {
    "collapsed": false
   },
   "outputs": [
    {
     "data": {
      "image/png": "[encoded data removed]",
      "text/plain": [
       "<matplotlib.figure.Figure at 0x115c080d0>"
      ]
     },
     "metadata": {},
     "output_type": "display_data"
    }
   ],
   "source": [
    "def showimg(imgdata, title=None, figsize=(2, 2), shape=(28, 28)):\n",
    "    fig = plt.figure(figsize=figsize)\n",
    "    plt.imshow(imgdata.reshape(shape))\n",
    "    plt.gray()\n",
    "    plt.axis('off')\n",
    "    if title != None:\n",
    "        plt.title(title)\n",
    "\n",
    "# test\n",
    "showimg(data[0], 1)"
   ]
  },
  {
   "cell_type": "code",
   "execution_count": 68,
   "metadata": {
    "collapsed": false
   },
   "outputs": [],
   "source": [
    "def weight_variable(shape, name=None):\n",
    "    return tf.Variable(tf.truncated_normal(shape = shape, stddev = 0.1), name)\n",
    "\n",
    "def bias_variable(shape, name=None):\n",
    "    return tf.Variable(tf.constant(0.1, shape = shape), name)\n",
    "\n",
    "def conv2d(x, W, b, padding='SAME', activation='relu'):\n",
    "    conv = tf.nn.conv2d(x, W, strides=[1, 2, 2, 1], padding=padding)\n",
    "    if activation == 'relu':\n",
    "        return tf.nn.relu(conv+b)\n",
    "    if activation == 'sigmoid':\n",
    "        return tf.nn.sigmoid(conv+b)\n",
    "    if activation == 'tanh':\n",
    "        return tf.nn.tanh(conv+b)\n",
    "    \n",
    "def deconv2d(x, W, output_shape, activation='relu'):\n",
    "    if activation == None:\n",
    "        return tf.nn.conv2d_transpose(\n",
    "                                      x, \n",
    "                                      W, \n",
    "                                      output_shape, \n",
    "                                      strides = [1, 2, 2, 1], \n",
    "                                      padding = 'SAME'\n",
    "                                     )\n",
    "    if activation == 'relu':\n",
    "        return tf.nn.relu(tf.nn.conv2d_transpose(\n",
    "                                                 x, \n",
    "                                                 W, \n",
    "                                                 output_shape, \n",
    "                                                 strides = [1, 2, 2, 1], \n",
    "                                                 padding = 'SAME'\n",
    "                                                ))\n",
    "\n",
    "def max_pool_2x2(x):\n",
    "    return tf.nn.max_pool(x, ksize=[1, 2, 2, 1],\n",
    "                          strides=[1, 2, 2, 1], padding='SAME')"
   ]
  },
  {
   "cell_type": "code",
   "execution_count": 69,
   "metadata": {
    "collapsed": false
   },
   "outputs": [],
   "source": [
    "def encoder(origin):\n",
    "    layer = origin\n",
    "    \n",
    "    eW1 = weight_variable([5, 5, 1, 2], name='eW1')\n",
    "    eb1 = bias_variable([2], name='eb1')\n",
    "    el1 = conv2d(layer, eW1, eb1)\n",
    "    print(el1.get_shape())\n",
    "    \n",
    "    eW2 = weight_variable([5, 5, 2, 4], name='eW2')\n",
    "    eb2 = bias_variable([4], name='eb2')\n",
    "    el2 = conv2d(el1, eW2, eb2)\n",
    "    print(el2.get_shape())\n",
    "    \n",
    "    eW3 = weight_variable([5, 5, 4, 8], name='eW3')\n",
    "    eb3 = bias_variable([8], name='eb3')\n",
    "    el3 = conv2d(el2, eW3, eb3)\n",
    "    print(el3.get_shape())     \n",
    "    \n",
    "    encoded = tf.reshape(el3, shape=[-1, 4*4*8])\n",
    "    #encoded = el3\n",
    "    return encoded\n",
    "\n",
    "def decoder(encoded):\n",
    "    layer = tf.reshape(encoded, shape=[-1, 4, 4, 8])\n",
    "    \n",
    "    outshape_d1 = tf.pack([tf.shape(layer)[0], 7, 7, 4])\n",
    "    dW1 = weight_variable([5, 5, 4, 8], name='dW1')\n",
    "    dl1 = deconv2d(layer, dW1, outshape_d1)\n",
    "    \n",
    "    outshape_d2 = tf.pack([tf.shape(layer)[0], 14, 14, 2])\n",
    "    dW2 = weight_variable([5, 5, 2, 4], name='dW2')\n",
    "    dl2 = deconv2d(dl1, dW2, outshape_d2)\n",
    "    \n",
    "    outshape_d3 = tf.pack([tf.shape(layer)[0], 28, 28, 1])\n",
    "    dW3 = weight_variable([5, 5, 1, 2], name='dW3')\n",
    "    dl3 = deconv2d(dl2, dW3, outshape_d3, activation=None)\n",
    "    \n",
    "    decoded = dl3\n",
    "    return decoded"
   ]
  },
  {
   "cell_type": "code",
   "execution_count": 70,
   "metadata": {
    "collapsed": false
   },
   "outputs": [
    {
     "name": "stdout",
     "output_type": "stream",
     "text": [
      "(?, 14, 14, 2)\n",
      "(?, 7, 7, 4)\n",
      "(?, 4, 4, 8)\n"
     ]
    }
   ],
   "source": [
    "x = tf.placeholder(tf.float32, shape=(None, 28, 28, 1))\n",
    "\n",
    "\n",
    "ED = encoder(x)\n",
    "DD = decoder(ED)"
   ]
  },
  {
   "cell_type": "code",
   "execution_count": 72,
   "metadata": {
    "collapsed": false
   },
   "outputs": [
    {
     "name": "stdout",
     "output_type": "stream",
     "text": [
      "step:100 loss: 3666.28076172\n",
      "step:200 loss: 2745.70776367\n",
      "step:300 loss: 2135.26464844\n",
      "step:400 loss: 1855.56762695\n",
      "step:500 loss: 1712.7109375\n",
      "step:600 loss: 1667.28674316\n",
      "step:700 loss: 1635.90820312\n",
      "step:800 loss: 1648.99902344\n",
      "step:900 loss: 1517.2911377\n",
      "step:1000 loss: 1383.10656738\n",
      "step:1100 loss: 1366.41174316\n",
      "step:1200 loss: 1367.13964844\n",
      "step:1300 loss: 1268.18786621\n",
      "step:1400 loss: 1239.95275879\n",
      "step:1500 loss: 1175.53210449\n",
      "step:1600 loss: 1164.4128418\n",
      "step:1700 loss: 1133.97839355\n",
      "step:1800 loss: 1185.16760254\n",
      "step:1900 loss: 1073.89929199\n",
      "step:2000 loss: 1192.73510742\n",
      "step:2100 loss: 1106.7779541\n",
      "step:2200 loss: 1032.47705078\n",
      "step:2300 loss: 1001.87200928\n",
      "step:2400 loss: 1018.06561279\n",
      "step:2500 loss: 973.848266602\n",
      "step:2600 loss: 1022.04199219\n",
      "step:2700 loss: 1042.61938477\n",
      "step:2800 loss: 935.410888672\n",
      "step:2900 loss: 933.436340332\n",
      "step:3000 loss: 906.454284668\n",
      "step:3100 loss: 1043.36633301\n",
      "step:3200 loss: 896.008850098\n",
      "step:3300 loss: 910.710205078\n",
      "step:3400 loss: 957.770263672\n",
      "step:3500 loss: 871.211730957\n",
      "step:3600 loss: 877.909179688\n",
      "step:3700 loss: 872.932678223\n",
      "step:3800 loss: 857.75994873\n",
      "step:3900 loss: 879.925598145\n",
      "step:4000 loss: 891.92376709\n",
      "step:4100 loss: 839.992980957\n",
      "step:4200 loss: 849.063659668\n",
      "step:4300 loss: 874.580810547\n",
      "step:4400 loss: 809.771972656\n",
      "step:4500 loss: 822.336791992\n",
      "step:4600 loss: 816.731933594\n",
      "step:4700 loss: 829.551452637\n",
      "step:4800 loss: 875.483825684\n",
      "step:4900 loss: 830.97857666\n",
      "step:5000 loss: 797.433044434\n",
      "step:5100 loss: 835.158752441\n",
      "step:5200 loss: 765.019165039\n",
      "step:5300 loss: 870.055175781\n",
      "step:5400 loss: 853.919189453\n",
      "step:5500 loss: 841.085876465\n",
      "step:5600 loss: 833.435058594\n",
      "step:5700 loss: 812.920288086\n",
      "step:5800 loss: 810.086975098\n",
      "step:5900 loss: 751.368103027\n",
      "step:6000 loss: 777.175048828\n",
      "step:6100 loss: 783.98260498\n",
      "step:6200 loss: 748.561279297\n",
      "step:6300 loss: 784.286376953\n",
      "step:6400 loss: 790.37298584\n",
      "step:6500 loss: 758.70501709\n",
      "step:6600 loss: 728.777648926\n",
      "step:6700 loss: 749.899047852\n",
      "step:6800 loss: 754.345336914\n",
      "step:6900 loss: 760.508605957\n",
      "step:7000 loss: 722.355773926\n",
      "step:7100 loss: 765.307434082\n",
      "step:7200 loss: 708.241699219\n",
      "step:7300 loss: 740.427429199\n",
      "step:7400 loss: 765.795471191\n",
      "step:7500 loss: 747.856262207\n",
      "step:7600 loss: 726.300720215\n",
      "step:7700 loss: 751.309692383\n",
      "step:7800 loss: 698.500732422\n",
      "step:7900 loss: 788.338439941\n",
      "step:8000 loss: 694.354309082\n",
      "step:8100 loss: 733.618408203\n",
      "step:8200 loss: 694.338562012\n",
      "step:8300 loss: 697.693664551\n",
      "step:8400 loss: 711.171569824\n",
      "step:8500 loss: 672.368225098\n",
      "step:8600 loss: 737.590576172\n",
      "step:8700 loss: 722.695129395\n",
      "step:8800 loss: 687.047180176\n",
      "step:8900 loss: 675.651306152\n",
      "step:9000 loss: 707.313720703\n",
      "step:9100 loss: 672.072265625\n",
      "step:9200 loss: 654.035461426\n",
      "step:9300 loss: 766.368469238\n",
      "step:9400 loss: 655.460754395\n",
      "step:9500 loss: 718.485656738\n",
      "step:9600 loss: 668.651245117\n",
      "step:9700 loss: 654.280700684\n",
      "step:9800 loss: 680.457763672\n",
      "step:9900 loss: 691.170593262\n",
      "step:10000 loss: 670.994262695\n"
     ]
    }
   ],
   "source": [
    "loss = tf.reduce_mean(tf.pow(DD - x, 2))\n",
    "optimizer = tf.train.RMSPropOptimizer(0.001).minimize(loss)\n",
    "\n",
    "dataset = DatasetNoLabel(data)\n",
    "\n",
    "with tf.Session() as sess:\n",
    "    tf.global_variables_initializer().run()\n",
    "    \n",
    "    for _ in xrange(10000):\n",
    "        batch = dataset.next_batch(64)\n",
    "        feed_dict = {x: batch}\n",
    "        sess.run(optimizer, feed_dict=feed_dict)\n",
    "        if (_+1)%100 == 0:\n",
    "            print(\"step:{} loss: {}\".format(_+1, sess.run(loss, feed_dict={x: data})))\n",
    "    \n",
    "    decoded_img = sess.run(DD, feed_dict={x: data})"
   ]
  },
  {
   "cell_type": "code",
   "execution_count": 73,
   "metadata": {
    "collapsed": false
   },
   "outputs": [],
   "source": [
    "restructed = decoded_img.reshape(-1, 28, 28)"
   ]
  },
  {
   "cell_type": "code",
   "execution_count": 86,
   "metadata": {
    "collapsed": false
   },
   "outputs": [
    {
     "data": {
      "image/png": "[encoded data removed]",
      "text/plain": [
       "<matplotlib.figure.Figure at 0x119d0d710>"
      ]
     },
     "metadata": {},
     "output_type": "display_data"
    }
   ],
   "source": [
    "k = np.random.randint(data.shape[0])\n",
    "showimg(restructed[k])"
   ]
  },
  {
   "cell_type": "code",
   "execution_count": 87,
   "metadata": {
    "collapsed": false
   },
   "outputs": [
    {
     "data": {
      "image/png": "[encoded data removed]",
      "text/plain": [
       "<matplotlib.figure.Figure at 0x119e233d0>"
      ]
     },
     "metadata": {},
     "output_type": "display_data"
    }
   ],
   "source": [
    "showimg(data[k])"
   ]
  },
  {
   "cell_type": "code",
   "execution_count": null,
   "metadata": {
    "collapsed": false
   },
   "outputs": [],
   "source": []
  },
  {
   "cell_type": "code",
   "execution_count": 42,
   "metadata": {
    "collapsed": false
   },
   "outputs": [
    {
     "data": {
      "text/plain": [
       "TensorShape([Dimension(None), Dimension(4), Dimension(4), Dimension(8)])"
      ]
     },
     "execution_count": 42,
     "metadata": {},
     "output_type": "execute_result"
    }
   ],
   "source": [
    "ED.get_shape()"
   ]
  },
  {
   "cell_type": "code",
   "execution_count": null,
   "metadata": {
    "collapsed": true
   },
   "outputs": [],
   "source": []
  }
 ],
 "metadata": {
  "kernelspec": {
   "display_name": "Python 2",
   "language": "python",
   "name": "python2"
  },
  "language_info": {
   "codemirror_mode": {
    "name": "ipython",
    "version": 2
   },
   "file_extension": ".py",
   "mimetype": "text/x-python",
   "name": "python",
   "nbconvert_exporter": "python",
   "pygments_lexer": "ipython2",
   "version": "2.7.13"
  }
 },
 "nbformat": 4,
 "nbformat_minor": 2
}
