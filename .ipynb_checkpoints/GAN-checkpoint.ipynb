{
 "cells": [
  {
   "cell_type": "code",
   "execution_count": 1,
   "metadata": {
    "collapsed": false,
    "deletable": true,
    "editable": true
   },
   "outputs": [],
   "source": [
    "%matplotlib inline\n",
    "import pandas as pd\n",
    "import numpy as np\n",
    "import tensorflow as tf\n",
    "import matplotlib.pyplot as plt\n",
    "\n",
    "imshow = plt.imshow\n",
    "import sys\n",
    "sys.path.insert(0, '../../LEARNING/tensorflow/')\n",
    "sys.path.insert(0, '../../LEARNING/PCA_dl/')\n",
    "from Dataset import DatasetNoLabel, Dataset\n",
    "from layers import full_connected"
   ]
  },
  {
   "cell_type": "code",
   "execution_count": 2,
   "metadata": {
    "collapsed": false,
    "deletable": true,
    "editable": true
   },
   "outputs": [],
   "source": [
    "data = pd.read_csv('./inputs/train.csv').values[:, 1:].reshape(-1, 28, 28, 1)\n",
    "label = pd.read_csv('./inputs/train.csv').values[:, 0]"
   ]
  },
  {
   "cell_type": "code",
   "execution_count": 3,
   "metadata": {
    "collapsed": false,
    "deletable": true,
    "editable": true
   },
   "outputs": [
    {
     "data": {
      "image/png": "[encoded data removed]",
      "text/plain": [
       "<matplotlib.figure.Figure at 0x1133241d0>"
      ]
     },
     "metadata": {},
     "output_type": "display_data"
    }
   ],
   "source": [
    "def showimg(imgdata, title=None, figsize=(2, 2), shape=(28, 28)):\n",
    "    fig = plt.figure(figsize=figsize)\n",
    "    plt.imshow(imgdata.reshape(shape))\n",
    "    plt.gray()\n",
    "    plt.axis('off')\n",
    "    if title != None:\n",
    "        plt.title(title)\n",
    "\n",
    "    plt.show()\n",
    "# test\n",
    "showimg(data[0], label[0])"
   ]
  },
  {
   "cell_type": "code",
   "execution_count": 4,
   "metadata": {
    "collapsed": false,
    "deletable": true,
    "editable": true
   },
   "outputs": [],
   "source": [
    "def weight_variable(shape, name=None):\n",
    "    return tf.Variable(tf.truncated_normal(shape = shape, stddev = 0.1), name)\n",
    "\n",
    "def bias_variable(shape, name=None):\n",
    "    return tf.Variable(tf.constant(0.1, shape = shape), name)\n",
    "\n",
    "def conv2d(x, W, b, padding='SAME', activation='relu'):\n",
    "    conv = tf.nn.conv2d(x, W, strides=[1, 2, 2, 1], padding=padding)\n",
    "    if activation == 'relu':\n",
    "        return tf.nn.relu(conv+b)\n",
    "    if activation == 'sigmoid':\n",
    "        return tf.nn.sigmoid(conv+b)\n",
    "    if activation == 'tanh':\n",
    "        return tf.nn.tanh(conv+b)\n",
    "    \n",
    "def deconv2d(x, W, output_shape, activation='relu'):\n",
    "    if activation == None:\n",
    "        return tf.nn.conv2d_transpose(\n",
    "                                      x, \n",
    "                                      W, \n",
    "                                      output_shape, \n",
    "                                      strides = [1, 2, 2, 1], \n",
    "                                      padding = 'SAME'\n",
    "                                     )\n",
    "    if activation == 'relu':\n",
    "        return tf.nn.relu(tf.nn.conv2d_transpose(\n",
    "                                                 x, \n",
    "                                                 W, \n",
    "                                                 output_shape, \n",
    "                                                 strides = [1, 2, 2, 1], \n",
    "                                                 padding = 'SAME'\n",
    "                                                ))\n",
    "\n",
    "def max_pool_2x2(x):\n",
    "    return tf.nn.max_pool(x, ksize=[1, 2, 2, 1],\n",
    "                          strides=[1, 2, 2, 1], padding='SAME')"
   ]
  },
  {
   "cell_type": "code",
   "execution_count": 5,
   "metadata": {
    "collapsed": true,
    "deletable": true,
    "editable": true
   },
   "outputs": [],
   "source": [
    "x_d = tf.placeholder(tf.float32, shape = [None, 784])\n",
    "x_g = tf.placeholder(tf.float32, shape = [None, 1568])\n",
    "\n",
    "weights = {\n",
    "    \"w_d1\" : weight_variable([784, 512], \"w_d1\"),\n",
    "    \"w_d2\" : weight_variable([512, 256], \"w_d2\"),\n",
    "    \"w_d3\" : weight_variable([256, 128], \"w_d3\"),\n",
    "    \"w_g1\" : weight_variable([1568, 1176], \"w_g1\"),\n",
    "    \"w_g2\" : weight_variable([1176, 784], \"w_g2\")\n",
    "}\n",
    "\n",
    "biases = {\n",
    "    \"b_d1\" : bias_variable([512], \"b_d1\"),\n",
    "    \"b_d2\" : bias_variable([256], \"b_d2\"),\n",
    "    \"b_d3\" : bias_variable([128], \"b_d3\"),\n",
    "    \"b_g1\" : bias_variable([1176], \"b_g1\"),\n",
    "    \"b_g2\" : bias_variable([784], \"b_g2\"),\n",
    "}\n",
    "\n",
    "var_d = [weights[\"w_d1\"], weights[\"w_d2\"], weights[\"w_d3\"], biases[\"b_d1\"], biases[\"b_d2\"], biases[\"b_d3\"]]\n",
    "var_g = [weights[\"w_g1\"], weights[\"w_g2\"], biases[\"b_g1\"], biases[\"b_g2\"]]"
   ]
  },
  {
   "cell_type": "code",
   "execution_count": 6,
   "metadata": {
    "collapsed": false,
    "deletable": true,
    "editable": true
   },
   "outputs": [],
   "source": [
    "def generator(z):\n",
    "    h_g1 = tf.nn.tanh(tf.add(tf.matmul(z, weights[\"w_g1\"]), biases[\"b_g1\"]))\n",
    "    h_g2 = tf.add(tf.matmul(h_g1, weights[\"w_g2\"]),biases[\"b_g2\"])\n",
    "    return h_g2\n",
    "\n",
    "\n",
    "def discriminator(x):\n",
    "    h_d1 = tf.nn.tanh(tf.add(tf.matmul(x, weights[\"w_d1\"]), biases[\"b_d1\"]))\n",
    "    h_d2 = tf.nn.sigmoid(tf.add(tf.matmul(h_d1, weights[\"w_d2\"]), biases[\"b_d2\"]))\n",
    "    h_d3 = tf.add(tf.matmul(h_d2, weights[\"w_d3\"]), biases[\"b_d3\"])\n",
    "    return h_d2"
   ]
  },
  {
   "cell_type": "code",
   "execution_count": 7,
   "metadata": {
    "collapsed": false,
    "deletable": true,
    "editable": true
   },
   "outputs": [],
   "source": [
    "with tf.name_scope(\"generator\"):\n",
    "    g_sample = generator(x_g)\n",
    "\n",
    "with tf.name_scope(\"discriminator\"):\n",
    "    d_real= discriminator(x_d)\n",
    "    d_fake = discriminator(g_sample)\n",
    "\n",
    "#d_loss = -tf.reduce_mean(tf.log(tf.maximum(eps, d_real)) + tf.log(tf.maximum(eps, (1. - d_fake))))\n",
    "#g_loss = -tf.reduce_mean(tf.log(tf.maximum(eps, d_fake)))\n",
    "\n",
    "with tf.name_scope(\"loss\"):\n",
    "    d_loss = tf.reduce_mean(d_real) - tf.reduce_mean(d_fake) # + (1. - d_fake) )\n",
    "    g_loss = tf.reduce_mean(d_fake)\n",
    "    tf.summary.scalar(\"dloss\", d_loss)\n",
    "    tf.summary.scalar(\"gloss\", g_loss)\n",
    "    tf.summary.histogram(\"d_real\", d_real)\n",
    "    tf.summary.histogram(\"d_fake\", d_fake)\n",
    "\n",
    "with tf.name_scope(\"training\"):\n",
    "    # 只更新 discriminator\n",
    "    d_optimizer = tf.train.RMSPropOptimizer(0.00001).minimize(d_loss, var_list= var_d)\n",
    "    # 只更新 generator parameters\n",
    "    g_optimizer = tf.train.RMSPropOptimizer(0.0001).minimize(g_loss, var_list= var_g)\n",
    "\n",
    "with tf.name_scope(\"clip_operation\"):\n",
    "    clip = [v.assign(tf.clip_by_value(v, -0.01, 0.01)) for v in var_d]\n",
    "\n",
    "init = tf.global_variables_initializer()\n",
    "\n",
    "sess = tf.Session()\n",
    "sess.run(init)\n",
    "\n",
    "#dataset = DatasetNoLabel(data1)\n",
    "\n",
    "file_writer = tf.summary.FileWriter('./logs/wgan', sess.graph)\n",
    "merged = tf.summary.merge_all()\n",
    "\n",
    "data1 = np.array([data[i] for i in range(len(data)) if label[i]==1])\n",
    "data0 = np.array([data[i] for i in range(len(data)) if label[i]!=1])\n",
    "\n",
    "label1 = np.ones(data1.shape[0])\n",
    "label0 = np.ones(data0.shape[0])\n",
    "\n",
    "label = np.ones(data.shape[0])\n",
    "dataset = Dataset(data, label)"
   ]
  },
  {
   "cell_type": "markdown",
   "metadata": {
    "collapsed": false,
    "deletable": true,
    "editable": true
   },
   "source": []
  },
  {
   "cell_type": "code",
   "execution_count": 8,
   "metadata": {
    "collapsed": false,
    "deletable": true,
    "editable": true
   },
   "outputs": [],
   "source": [
    "batch_size = 128\n",
    "\n",
    "for _ in range(2500):\n",
    "    \n",
    "    for __ in range(5):\n",
    "        x_batch, y_batch = dataset.next_batch(batch_size)\n",
    "        feed = {x_d: x_batch.reshape(-1, 784), x_g: np.random.uniform(-1., 1., size=[batch_size, 1568])}\n",
    "        sess.run(clip)\n",
    "        sess.run(d_optimizer, feed_dict=feed)\n",
    "    \n",
    "    for __ in range(1):\n",
    "        feed = {x_d: x_batch.reshape(-1, 784), x_g: np.random.uniform(-1., 1., size=[batch_size, 1568])}\n",
    "        sess.run(g_optimizer, feed_dict=feed)\n",
    "    \n",
    "    #if (_+1)%10 == 0:\n",
    "    summary = sess.run(merged, feed_dict=feed)\n",
    "    file_writer.add_summary(summary, _)\n",
    "        \n",
    "    #if (_+1)%100 == 0:\n",
    "    #    g = sess.run(g_sample, feed_dict=feed)\n",
    "    #    showimg(g[1].reshape(28, 28, 1))"
   ]
  },
  {
   "cell_type": "markdown",
   "metadata": {
    "collapsed": false,
    "deletable": true,
    "editable": true
   },
   "source": [
    "<img src=\"./logs/wgan/hist.png\">"
   ]
  },
  {
   "cell_type": "code",
   "execution_count": 10,
   "metadata": {
    "collapsed": false,
    "deletable": true,
    "editable": true
   },
   "outputs": [
    {
     "data": {
      "image/png": "[encoded data removed]",
      "text/plain": [
       "<matplotlib.figure.Figure at 0x1132e82e8>"
      ]
     },
     "metadata": {},
     "output_type": "display_data"
    },
    {
     "data": {
      "image/png": "[encoded data removed]",
      "text/plain": [
       "<matplotlib.figure.Figure at 0x11e9b52e8>"
      ]
     },
     "metadata": {},
     "output_type": "display_data"
    },
    {
     "data": {
      "image/png": "[encoded data removed]",
      "text/plain": [
       "<matplotlib.figure.Figure at 0x11dab0e80>"
      ]
     },
     "metadata": {},
     "output_type": "display_data"
    },
    {
     "data": {
      "image/png": "[encoded data removed]",
      "text/plain": [
       "<matplotlib.figure.Figure at 0x11dada748>"
      ]
     },
     "metadata": {},
     "output_type": "display_data"
    },
    {
     "data": {
      "image/png": "[encoded data removed]",
      "text/plain": [
       "<matplotlib.figure.Figure at 0x11db98048>"
      ]
     },
     "metadata": {},
     "output_type": "display_data"
    },
    {
     "data": {
      "image/png": "[encoded data removed]",
      "text/plain": [
       "<matplotlib.figure.Figure at 0x11db8ac50>"
      ]
     },
     "metadata": {},
     "output_type": "display_data"
    },
    {
     "data": {
      "image/png": "[encoded data removed]",
      "text/plain": [
       "<matplotlib.figure.Figure at 0x1172035f8>"
      ]
     },
     "metadata": {},
     "output_type": "display_data"
    },
    {
     "data": {
      "image/png": "[encoded data removed]",
      "text/plain": [
       "<matplotlib.figure.Figure at 0x113496d30>"
      ]
     },
     "metadata": {},
     "output_type": "display_data"
    },
    {
     "data": {
      "image/png": "[encoded data removed]",
      "text/plain": [
       "<matplotlib.figure.Figure at 0x11368ceb8>"
      ]
     },
     "metadata": {},
     "output_type": "display_data"
    },
    {
     "data": {
      "image/png": "[encoded data removed]",
      "text/plain": [
       "<matplotlib.figure.Figure at 0x1136a94e0>"
      ]
     },
     "metadata": {},
     "output_type": "display_data"
    }
   ],
   "source": [
    "batch_size = 128\n",
    "#feed = {z: np.random.randn(784*2).reshape(-1, 784*2)}\n",
    "feed = {x_d: x_batch.reshape(-1, 784), x_g: np.random.uniform(0., 1., size=[batch_size, 1568])}\n",
    "\n",
    "im = sess.run(g_sample, feed_dict=feed).reshape(-1, 28, 28, 1)\n",
    "for i in range(10):\n",
    "    showimg(im[i])"
   ]
  },
  {
   "cell_type": "markdown",
   "metadata": {
    "collapsed": false,
    "deletable": true,
    "editable": true
   },
   "source": [
    "看起來還需要更多迭代。"
   ]
  },
  {
   "cell_type": "code",
   "execution_count": null,
   "metadata": {
    "collapsed": false,
    "deletable": true,
    "editable": true
   },
   "outputs": [],
   "source": []
  },
  {
   "cell_type": "code",
   "execution_count": null,
   "metadata": {
    "collapsed": true,
    "deletable": true,
    "editable": true
   },
   "outputs": [],
   "source": []
  }
 ],
 "metadata": {
  "kernelspec": {
   "display_name": "Python 3",
   "language": "python",
   "name": "python3"
  },
  "language_info": {
   "codemirror_mode": {
    "name": "ipython",
    "version": 3
   },
   "file_extension": ".py",
   "mimetype": "text/x-python",
   "name": "python",
   "nbconvert_exporter": "python",
   "pygments_lexer": "ipython3",
   "version": "3.6.0"
  }
 },
 "nbformat": 4,
 "nbformat_minor": 2
}
