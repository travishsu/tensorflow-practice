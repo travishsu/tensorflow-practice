{
 "cells": [
  {
   "cell_type": "code",
   "execution_count": 1,
   "metadata": {
    "collapsed": false,
    "deletable": true,
    "editable": true
   },
   "outputs": [],
   "source": [
    "%matplotlib inline\n",
    "import pandas as pd\n",
    "import numpy as np\n",
    "import tensorflow as tf\n",
    "import matplotlib.pyplot as plt\n",
    "\n",
    "imshow = plt.imshow\n",
    "\n",
    "import sys\n",
    "sys.path.insert(0, '../../LEARNING/tensorflow')\n",
    "sys.path.insert(0, '../../LEARNING/PCA_dl')\n",
    "from layers import full_connected\n",
    "from Dataset import DatasetNoLabel"
   ]
  },
  {
   "cell_type": "code",
   "execution_count": 2,
   "metadata": {
    "collapsed": false,
    "deletable": true,
    "editable": true
   },
   "outputs": [],
   "source": [
    "data = pd.read_csv('./inputs/train.csv').values[:, 1:].reshape(-1, 28, 28, 1)"
   ]
  },
  {
   "cell_type": "code",
   "execution_count": 3,
   "metadata": {
    "collapsed": true,
    "deletable": true,
    "editable": true
   },
   "outputs": [],
   "source": [
    "class DatasetNoLabel(object):\n",
    "    def __init__(self, data):\n",
    "        self._data = data\n",
    "        self._num_examples = data.shape[0]\n",
    "        self._epochs_completed = 0\n",
    "        self._index_in_epoch = 0\n",
    "    @property\n",
    "    def data(self):\n",
    "        return self._data\n",
    "    @property\n",
    "    def num_examples(self):\n",
    "        return self._num_examples\n",
    "    @property\n",
    "    def epochs_completed(self):\n",
    "        return self._epochs_completed\n",
    "    def next_batch(self, batch_size):\n",
    "        start = self._index_in_epoch\n",
    "        self._index_in_epoch += batch_size\n",
    "        if self._index_in_epoch > self._num_examples:\n",
    "            # Finished epoch\n",
    "            self._epochs_completed += 1\n",
    "            # Shuffle the data\n",
    "            perm = np.arange(self._num_examples)\n",
    "            np.random.shuffle(perm)\n",
    "            self._data = self._data[perm]\n",
    "            # Start next epoch\n",
    "            start = 0\n",
    "            self._index_in_epoch = batch_size\n",
    "            assert batch_size <= self._num_examples\n",
    "        end = self._index_in_epoch\n",
    "        return self._data[start:end]"
   ]
  },
  {
   "cell_type": "code",
   "execution_count": 4,
   "metadata": {
    "collapsed": false,
    "deletable": true,
    "editable": true
   },
   "outputs": [
    {
     "data": {
      "image/png": "[encoded data removed]",
      "text/plain": [
       "<matplotlib.figure.Figure at 0x110e316d8>"
      ]
     },
     "metadata": {},
     "output_type": "display_data"
    }
   ],
   "source": [
    "def showimg(imgdata, title=None, figsize=(2, 2), shape=(28, 28)):\n",
    "    fig = plt.figure(figsize=figsize)\n",
    "    plt.imshow(imgdata.reshape(shape))\n",
    "    plt.gray()\n",
    "    plt.axis('off')\n",
    "    if title != None:\n",
    "        plt.title(title)\n",
    "\n",
    "# test\n",
    "showimg(data[0], 1)"
   ]
  },
  {
   "cell_type": "code",
   "execution_count": 5,
   "metadata": {
    "collapsed": false,
    "deletable": true,
    "editable": true
   },
   "outputs": [],
   "source": [
    "def weight_variable(shape, name=None):\n",
    "    return tf.Variable(tf.truncated_normal(shape = shape, stddev = 0.1), name)\n",
    "\n",
    "def bias_variable(shape, name=None):\n",
    "    return tf.Variable(tf.constant(0.1, shape = shape), name)\n",
    "\n",
    "def create_FC_variables(layer_dim):\n",
    "    Ws = []\n",
    "    bs = []\n",
    "    token = np.random.randint(1)\n",
    "    for i in range(0, len(layer_dim)-1):\n",
    "        w = weight_variable([layer_dim[i], layer_dim[i+1]], 'w'+str(token)+str(i))\n",
    "        b = bias_variable([layer_dim[i+1]], 'b'+str(token)+str(i))\n",
    "        \n",
    "        tf.add_to_collection('vars', w)\n",
    "        tf.add_to_collection('vars', b)\n",
    "        Ws.append(w)\n",
    "        bs.append(b)\n",
    "    return Ws, bs\n",
    "    \n",
    "def activate(prev_layer, weight, bias, activation=None):\n",
    "    linear_combination = tf.matmul(prev_layer, weight) + bias\n",
    "    \n",
    "    if activation == None:\n",
    "        return linear_combination\n",
    "    if activation == 'relu':\n",
    "        return tf.nn.relu(linear_combination)\n",
    "    if activation == 'sigmoid':\n",
    "        return tf.nn.sigmoid(linear_combination)\n",
    "    if activation == 'tanh':\n",
    "        return tf.nn.tanh(linear_combination)"
   ]
  },
  {
   "cell_type": "code",
   "execution_count": 6,
   "metadata": {
    "collapsed": false,
    "deletable": true,
    "editable": true
   },
   "outputs": [],
   "source": [
    "def encoder(origin, Ws, bs):\n",
    "    layer = origin\n",
    "    \n",
    "    for i in range(len(Ws)):\n",
    "        layer = activate(layer, Ws[i], bs[i], activation='sigmoid')\n",
    "        \n",
    "    encoded = layer\n",
    "    return encoded\n",
    "\n",
    "def decoder(encoded, Ws, bs):\n",
    "    layer = encoded\n",
    "    \n",
    "    for i in range(len(Ws)-1):\n",
    "        layer = activate(layer, Ws[i], bs[i], activation='sigmoid')\n",
    "    layer = activate(layer, Ws[-1], bs[-1])\n",
    "    \n",
    "    decoded = layer\n",
    "    return decoded"
   ]
  },
  {
   "cell_type": "code",
   "execution_count": 7,
   "metadata": {
    "collapsed": false,
    "deletable": true,
    "editable": true
   },
   "outputs": [],
   "source": [
    "x = tf.placeholder(tf.float32, shape=(None, 28*28))\n",
    "\n",
    "#eWs, ebs = create_FC_variables([784, 300, 100,  20])\n",
    "#dWs, dbs = create_FC_variables([ 20, 100, 300, 784])\n",
    "\n",
    "#ED = encoder(x, eWs, ebs)\n",
    "#DD = decoder(ED, dWs, dbs)\n",
    "\n",
    "with tf.name_scope(\"encoder\"):\n",
    "    el1, _ = full_connected(x  , 300, 'el1', 'sigmoid')\n",
    "    el2, _ = full_connected(el1, 100, 'el2', 'sigmoid')\n",
    "    el3, _ = full_connected(el2,  75, 'el3', 'sigmoid')\n",
    "    el4, _ = full_connected(el3,  50, 'el4', 'sigmoid')\n",
    "    ED, _ = full_connected(el4,  20, 'ed' , 'sigmoid')\n",
    "\n",
    "with tf.name_scope(\"decoder\"):\n",
    "    dl1, _ = full_connected(ED,   50, 'dl1', 'sigmoid')\n",
    "    dl2, _ = full_connected(dl1,  75, 'dl2', 'sigmoid')\n",
    "    dl3, _ = full_connected(dl2, 100, 'dl3', 'sigmoid')\n",
    "    dl4, _ = full_connected(dl3, 300, 'dl4', 'sigmoid')\n",
    "    DD, _  = full_connected(dl4, 784, 'dd')"
   ]
  },
  {
   "cell_type": "code",
   "execution_count": 8,
   "metadata": {
    "collapsed": false,
    "deletable": true,
    "editable": true
   },
   "outputs": [],
   "source": [
    "with tf.name_scope(\"cost\"):\n",
    "    loss = tf.reduce_mean(tf.pow(DD - x, 2))\n",
    "    optimizer = tf.train.RMSPropOptimizer(0.01).minimize(loss)\n",
    "\n",
    "dataset = DatasetNoLabel(data)\n",
    "\n",
    "sess = tf.InteractiveSession()\n",
    "\n",
    "tf.summary.scalar(\"loss\", loss)\n",
    "file_writer = tf.summary.FileWriter('./logs/ae', sess.graph)\n",
    "merged = tf.summary.merge_all()\n",
    "tf.global_variables_initializer().run()"
   ]
  },
  {
   "cell_type": "code",
   "execution_count": 9,
   "metadata": {
    "collapsed": false
   },
   "outputs": [
    {
     "name": "stdout",
     "output_type": "stream",
     "text": [
      "step: 100 \n",
      "step: 200 \n",
      "step: 300 \n",
      "step: 400 \n",
      "step: 500 \n",
      "step: 600 \n",
      "step: 700 \n",
      "step: 800 \n",
      "step: 900 \n",
      "step: 1000 \n",
      "step: 1100 \n",
      "step: 1200 \n",
      "step: 1300 \n",
      "step: 1400 \n",
      "step: 1500 \n",
      "step: 1600 \n",
      "step: 1700 \n",
      "step: 1800 \n",
      "step: 1900 \n",
      "step: 2000 \n",
      "step: 2100 \n",
      "step: 2200 \n",
      "step: 2300 \n",
      "step: 2400 \n",
      "step: 2500 \n",
      "step: 2600 \n",
      "step: 2700 \n",
      "step: 2800 \n",
      "step: 2900 \n",
      "step: 3000 \n",
      "step: 3100 \n",
      "step: 3200 \n",
      "step: 3300 \n",
      "step: 3400 \n",
      "step: 3500 \n",
      "step: 3600 \n",
      "step: 3700 \n",
      "step: 3800 \n",
      "step: 3900 \n",
      "step: 4000 \n",
      "step: 4100 \n",
      "step: 4200 \n",
      "step: 4300 \n",
      "step: 4400 \n",
      "step: 4500 \n",
      "step: 4600 \n",
      "step: 4700 \n",
      "step: 4800 \n",
      "step: 4900 \n",
      "step: 5000 \n",
      "step: 5100 \n",
      "step: 5200 \n",
      "step: 5300 \n",
      "step: 5400 \n",
      "step: 5500 \n",
      "step: 5600 \n",
      "step: 5700 \n",
      "step: 5800 \n",
      "step: 5900 \n",
      "step: 6000 \n",
      "step: 6100 \n",
      "step: 6200 \n",
      "step: 6300 \n",
      "step: 6400 \n",
      "step: 6500 \n",
      "step: 6600 \n",
      "step: 6700 \n",
      "step: 6800 \n",
      "step: 6900 \n",
      "step: 7000 \n",
      "step: 7100 \n",
      "step: 7200 \n",
      "step: 7300 \n",
      "step: 7400 \n",
      "step: 7500 \n",
      "step: 7600 \n",
      "step: 7700 \n",
      "step: 7800 \n",
      "step: 7900 \n",
      "step: 8000 \n",
      "step: 8100 \n",
      "step: 8200 \n",
      "step: 8300 \n",
      "step: 8400 \n",
      "step: 8500 \n",
      "step: 8600 \n",
      "step: 8700 \n",
      "step: 8800 \n",
      "step: 8900 \n",
      "step: 9000 \n",
      "step: 9100 \n",
      "step: 9200 \n",
      "step: 9300 \n",
      "step: 9400 \n",
      "step: 9500 \n",
      "step: 9600 \n",
      "step: 9700 \n",
      "step: 9800 \n",
      "step: 9900 \n",
      "step: 10000 \n",
      "step: 10100 \n",
      "step: 10200 \n",
      "step: 10300 \n",
      "step: 10400 \n",
      "step: 10500 \n",
      "step: 10600 \n",
      "step: 10700 \n",
      "step: 10800 \n",
      "step: 10900 \n",
      "step: 11000 \n",
      "step: 11100 \n",
      "step: 11200 \n",
      "step: 11300 \n",
      "step: 11400 \n",
      "step: 11500 \n",
      "step: 11600 \n",
      "step: 11700 \n",
      "step: 11800 \n",
      "step: 11900 \n",
      "step: 12000 \n",
      "step: 12100 \n",
      "step: 12200 \n",
      "step: 12300 \n",
      "step: 12400 \n",
      "step: 12500 \n",
      "step: 12600 \n",
      "step: 12700 \n",
      "step: 12800 \n",
      "step: 12900 \n",
      "step: 13000 \n",
      "step: 13100 \n",
      "step: 13200 \n",
      "step: 13300 \n",
      "step: 13400 \n",
      "step: 13500 \n",
      "step: 13600 \n",
      "step: 13700 \n",
      "step: 13800 \n",
      "step: 13900 \n",
      "step: 14000 \n",
      "step: 14100 \n",
      "step: 14200 \n",
      "step: 14300 \n",
      "step: 14400 \n",
      "step: 14500 \n",
      "step: 14600 \n",
      "step: 14700 \n",
      "step: 14800 \n",
      "step: 14900 \n",
      "step: 15000 \n",
      "step: 15100 \n",
      "step: 15200 \n",
      "step: 15300 \n",
      "step: 15400 \n",
      "step: 15500 \n",
      "step: 15600 \n",
      "step: 15700 \n",
      "step: 15800 \n",
      "step: 15900 \n",
      "step: 16000 \n",
      "step: 16100 \n",
      "step: 16200 \n",
      "step: 16300 \n",
      "step: 16400 \n",
      "step: 16500 \n",
      "step: 16600 \n",
      "step: 16700 \n",
      "step: 16800 \n",
      "step: 16900 \n",
      "step: 17000 \n",
      "step: 17100 \n",
      "step: 17200 \n",
      "step: 17300 \n",
      "step: 17400 \n",
      "step: 17500 \n",
      "step: 17600 \n",
      "step: 17700 \n",
      "step: 17800 \n",
      "step: 17900 \n",
      "step: 18000 \n",
      "step: 18100 \n",
      "step: 18200 \n",
      "step: 18300 \n",
      "step: 18400 \n",
      "step: 18500 \n",
      "step: 18600 \n",
      "step: 18700 \n",
      "step: 18800 \n",
      "step: 18900 \n",
      "step: 19000 \n",
      "step: 19100 \n",
      "step: 19200 \n",
      "step: 19300 \n",
      "step: 19400 \n",
      "step: 19500 \n",
      "step: 19600 \n",
      "step: 19700 \n",
      "step: 19800 \n",
      "step: 19900 \n",
      "step: 20000 \n"
     ]
    }
   ],
   "source": [
    "for _ in range(20000):\n",
    "    batch = dataset.next_batch(64)\n",
    "    feed_dict = {x: batch.reshape(-1, 28*28)}\n",
    "    summary, ___ = sess.run([merged, optimizer], feed_dict=feed_dict)\n",
    "    if (_+1)%100 == 0:\n",
    "        print(\"step: {} \".format(_+1))\n",
    "    file_writer.add_summary(summary, _)\n",
    "    \n",
    "decoded_img = sess.run(DD, feed_dict={x: data.reshape(-1, 28*28)})"
   ]
  },
  {
   "cell_type": "markdown",
   "metadata": {},
   "source": [
    "<img src=\"./logs/ae/loss_decay.png\">"
   ]
  },
  {
   "cell_type": "code",
   "execution_count": 10,
   "metadata": {
    "collapsed": false,
    "deletable": true,
    "editable": true
   },
   "outputs": [],
   "source": [
    "restructed = decoded_img.reshape(-1, 28, 28)"
   ]
  },
  {
   "cell_type": "code",
   "execution_count": 17,
   "metadata": {
    "collapsed": false,
    "deletable": true,
    "editable": true
   },
   "outputs": [
    {
     "data": {
      "image/png": "[encoded data removed]",
      "text/plain": [
       "<matplotlib.figure.Figure at 0x111407c18>"
      ]
     },
     "metadata": {},
     "output_type": "display_data"
    }
   ],
   "source": [
    "k = np.random.randint(data.shape[0])\n",
    "showimg(restructed[k])"
   ]
  },
  {
   "cell_type": "code",
   "execution_count": 18,
   "metadata": {
    "collapsed": false,
    "deletable": true,
    "editable": true
   },
   "outputs": [
    {
     "data": {
      "image/png": "[encoded data removed]",
      "text/plain": [
       "<matplotlib.figure.Figure at 0x111384d68>"
      ]
     },
     "metadata": {},
     "output_type": "display_data"
    }
   ],
   "source": [
    "showimg(data[k])"
   ]
  },
  {
   "cell_type": "code",
   "execution_count": null,
   "metadata": {
    "collapsed": false,
    "deletable": true,
    "editable": true
   },
   "outputs": [],
   "source": []
  },
  {
   "cell_type": "code",
   "execution_count": null,
   "metadata": {
    "collapsed": false,
    "deletable": true,
    "editable": true
   },
   "outputs": [],
   "source": []
  },
  {
   "cell_type": "code",
   "execution_count": null,
   "metadata": {
    "collapsed": false,
    "deletable": true,
    "editable": true
   },
   "outputs": [],
   "source": []
  },
  {
   "cell_type": "code",
   "execution_count": null,
   "metadata": {
    "collapsed": true,
    "deletable": true,
    "editable": true
   },
   "outputs": [],
   "source": []
  }
 ],
 "metadata": {
  "kernelspec": {
   "display_name": "Python 3",
   "language": "python",
   "name": "python3"
  },
  "language_info": {
   "codemirror_mode": {
    "name": "ipython",
    "version": 3
   },
   "file_extension": ".py",
   "mimetype": "text/x-python",
   "name": "python",
   "nbconvert_exporter": "python",
   "pygments_lexer": "ipython3",
   "version": "3.6.0"
  }
 },
 "nbformat": 4,
 "nbformat_minor": 2
}
